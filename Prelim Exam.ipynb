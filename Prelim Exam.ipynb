{
  "nbformat": 4,
  "nbformat_minor": 0,
  "metadata": {
    "colab": {
      "name": "Untitled5.ipynb",
      "provenance": [],
      "authorship_tag": "ABX9TyOJvQ0FuAraNi7usweb3NWj",
      "include_colab_link": true
    },
    "kernelspec": {
      "name": "python3",
      "display_name": "Python 3"
    },
    "language_info": {
      "name": "python"
    }
  },
  "cells": [
    {
      "cell_type": "markdown",
      "metadata": {
        "id": "view-in-github",
        "colab_type": "text"
      },
      "source": [
        "<a href=\"https://colab.research.google.com/github/RalphMolina/OOP-58001/blob/main/Prelim%20Exam.ipynb\" target=\"_parent\"><img src=\"https://colab.research.google.com/assets/colab-badge.svg\" alt=\"Open In Colab\"/></a>"
      ]
    },
    {
      "cell_type": "markdown",
      "source": [
        "Prelim Exam in OOP\n"
      ],
      "metadata": {
        "id": "m4gRhKYfJMZ0"
      }
    },
    {
      "cell_type": "code",
      "source": [
        "class Student:\n",
        "\n",
        "  def  __init__(self,Name,Student_No,Age,School,Course):\n",
        "    self.Name = Name\n",
        "    self.Student_No = Student_No\n",
        "    self.Age = Age\n",
        "    self.School = School\n",
        "    self.Course = Course\n",
        "\n",
        "  def self(self):\n",
        "    print (\"Name: \", self.Name)\n",
        "    print (\"Student Number: \", self.Student_No)\n",
        "    print (\"Age: \", self.Age)\n",
        "    print (\"School: \", self.School)\n",
        "    print (\"Course \", self.Course)\n",
        "\n",
        "Myself = Student (\"Molina, Ralph Michael M.\", 202116159, 19, \"Adamson University\", \"BS in Computer Engineering\")\n",
        "Myself.self()"
      ],
      "metadata": {
        "colab": {
          "base_uri": "https://localhost:8080/"
        },
        "id": "vXAQnOEUJN5V",
        "outputId": "f37d5757-07f2-43f0-a857-92f3361059d8"
      },
      "execution_count": 8,
      "outputs": [
        {
          "output_type": "stream",
          "name": "stdout",
          "text": [
            "Name:  Molina, Ralph Michael M.\n",
            "Student Number:  202116159\n",
            "Age:  19\n",
            "School:  Adamson University\n",
            "Course  BS in Computer Engineering\n"
          ]
        }
      ]
    }
  ]
}