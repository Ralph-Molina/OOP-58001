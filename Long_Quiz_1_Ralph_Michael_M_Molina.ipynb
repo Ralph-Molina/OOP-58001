{
  "nbformat": 4,
  "nbformat_minor": 0,
  "metadata": {
    "colab": {
      "name": "Untitled3.ipynb",
      "provenance": [],
      "authorship_tag": "ABX9TyPy4o/+Ip7pxnmUXDcsOiHy",
      "include_colab_link": true
    },
    "kernelspec": {
      "name": "python3",
      "display_name": "Python 3"
    },
    "language_info": {
      "name": "python"
    }
  },
  "cells": [
    {
      "cell_type": "markdown",
      "metadata": {
        "id": "view-in-github",
        "colab_type": "text"
      },
      "source": [
        "<a href=\"https://colab.research.google.com/github/RalphMolina/OOP-58001/blob/main/Long_Quiz_1_Ralph_Michael_M_Molina.ipynb\" target=\"_parent\"><img src=\"https://colab.research.google.com/assets/colab-badge.svg\" alt=\"Open In Colab\"/></a>"
      ]
    },
    {
      "cell_type": "markdown",
      "source": [
        "Long Quiz 1 - Molina"
      ],
      "metadata": {
        "id": "PoDikJzsbzsb"
      }
    },
    {
      "cell_type": "code",
      "source": [
        "class Circle():\n",
        "  def __init__(self, radius):\n",
        "    self.radius = int (radius)\n",
        "\n",
        "  def Perimeter (self):\n",
        "    return 2 * pi * self.radius\n",
        "\n",
        "  def Area (self):\n",
        "    return pi * (self.radius ** 2)\n",
        "\n",
        "  def display (self):\n",
        "    print (\"The Perimeter of the Ring is\", self.Perimeter())\n",
        "    print (\"The area of the Ring is\", self.Area())\n",
        "\n",
        "pi = 3.14\n",
        "ring = Circle (input())\n",
        "ring.display()"
      ],
      "metadata": {
        "colab": {
          "base_uri": "https://localhost:8080/"
        },
        "id": "kRT7Nva_b2Ci",
        "outputId": "d9c87070-e344-4121-9f4c-e6d326a07df5"
      },
      "execution_count": 2,
      "outputs": [
        {
          "output_type": "stream",
          "name": "stdout",
          "text": [
            "3\n",
            "The perimeter of the Ring is 18.84\n",
            "The area of the Ring is 28.26\n"
          ]
        }
      ]
    }
  ]
}