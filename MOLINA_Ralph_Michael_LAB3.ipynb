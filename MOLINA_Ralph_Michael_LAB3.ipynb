{
  "nbformat": 4,
  "nbformat_minor": 0,
  "metadata": {
    "colab": {
      "name": "Untitled4.ipynb",
      "provenance": [],
      "authorship_tag": "ABX9TyMSmoOulg4akItjQK5g0XpO",
      "include_colab_link": true
    },
    "kernelspec": {
      "name": "python3",
      "display_name": "Python 3"
    },
    "language_info": {
      "name": "python"
    }
  },
  "cells": [
    {
      "cell_type": "markdown",
      "metadata": {
        "id": "view-in-github",
        "colab_type": "text"
      },
      "source": [
        "<a href=\"https://colab.research.google.com/github/RalphMolina/OOP-58001/blob/main/MOLINA_Ralph_Michael_LAB3.ipynb\" target=\"_parent\"><img src=\"https://colab.research.google.com/assets/colab-badge.svg\" alt=\"Open In Colab\"/></a>"
      ]
    },
    {
      "cell_type": "markdown",
      "source": [
        "Create a Class"
      ],
      "metadata": {
        "id": "cr66oh21mSmE"
      }
    },
    {
      "cell_type": "code",
      "source": [
        "class MyClass:\n",
        "  pass                #to create a class without method"
      ],
      "metadata": {
        "id": "IMGHKkm1mUvP"
      },
      "execution_count": null,
      "outputs": []
    },
    {
      "cell_type": "code",
      "source": [
        "class MyClass:        #the name of the class\n",
        "  x = 40              #property of the class named MyClass"
      ],
      "metadata": {
        "id": "dMGKCMeXmYcw"
      },
      "execution_count": null,
      "outputs": []
    },
    {
      "cell_type": "code",
      "source": [
        "class Car():                          #Create a class named car\n",
        "  def __init__(self,name,color):\n",
        "    self.name = name                  #represents the instance of class named Car\n",
        "    self.color = color                \n",
        "\n",
        "  def description(self):\n",
        "    return self.name, self.color\n",
        "  \n",
        "  def display(self):\n",
        "    print (\"The name and color of the car \", self.description())\n",
        "obj1 = Car(\"Ford\",\"white\")\n",
        "obj1.display()"
      ],
      "metadata": {
        "colab": {
          "base_uri": "https://localhost:8080/"
        },
        "id": "XrSeFuORqmGA",
        "outputId": "25c8be41-a550-4663-9210-a808a4d2f8d8"
      },
      "execution_count": 3,
      "outputs": [
        {
          "output_type": "stream",
          "name": "stdout",
          "text": [
            "The name and color of the car  ('Ford', 'white')\n"
          ]
        }
      ]
    },
    {
      "cell_type": "markdown",
      "source": [
        "Modify an Object Property\n",
        "\n"
      ],
      "metadata": {
        "id": "fhzsxayFqw5C"
      }
    },
    {
      "cell_type": "code",
      "source": [
        "obj1.name = \"Honda\"\n",
        "print(obj1.name)\n"
      ],
      "metadata": {
        "colab": {
          "base_uri": "https://localhost:8080/"
        },
        "id": "DWXnxUC6qype",
        "outputId": "1675f7c7-9c4a-4b06-f3f9-adfddfdcafbc"
      },
      "execution_count": 4,
      "outputs": [
        {
          "output_type": "stream",
          "name": "stdout",
          "text": [
            "Honda\n"
          ]
        }
      ]
    },
    {
      "cell_type": "code",
      "source": [
        "obj1.display()\n"
      ],
      "metadata": {
        "colab": {
          "base_uri": "https://localhost:8080/"
        },
        "id": "cRJAtGyIrBM_",
        "outputId": "09979884-16c7-466a-8550-f03550809fe7"
      },
      "execution_count": 5,
      "outputs": [
        {
          "output_type": "stream",
          "name": "stdout",
          "text": [
            "The name and color of the car  ('Honda', 'white')\n"
          ]
        }
      ]
    },
    {
      "cell_type": "markdown",
      "source": [
        "Delete the Object Property\n",
        "\n"
      ],
      "metadata": {
        "id": "__914x-hrFaz"
      }
    },
    {
      "cell_type": "code",
      "source": [
        "class Car():                          #Create a class named car\n",
        "  def __init__(self,name,color):\n",
        "    self.name = name                  #represents the instance of class named Car\n",
        "    self.color = color                \n",
        "  def description(self):\n",
        "    return self.name, self.color\n",
        "\n",
        "  def display(self):\n",
        "    print (\"The name and color of the car \", self.description())\n",
        "obj1 = Car(\"Ford\",\"white\")\n",
        "obj1.display()\n"
      ],
      "metadata": {
        "colab": {
          "base_uri": "https://localhost:8080/"
        },
        "id": "kWfkON0MrF_y",
        "outputId": "f5aad63d-fb2a-484d-c8d0-3d346ca0de8d"
      },
      "execution_count": 6,
      "outputs": [
        {
          "output_type": "stream",
          "name": "stdout",
          "text": [
            "The name and color of the car  ('Ford', 'white')\n"
          ]
        }
      ]
    },
    {
      "cell_type": "code",
      "source": [
        "del obj1.color\n",
        "obj1.display()\n"
      ],
      "metadata": {
        "colab": {
          "base_uri": "https://localhost:8080/",
          "height": 183
        },
        "id": "1eFf31SAs31I",
        "outputId": "83c21905-b0ff-4d00-aaaa-0dda715aeb6f"
      },
      "execution_count": 8,
      "outputs": [
        {
          "output_type": "error",
          "ename": "AttributeError",
          "evalue": "ignored",
          "traceback": [
            "\u001b[0;31m---------------------------------------------------------------------------\u001b[0m",
            "\u001b[0;31mAttributeError\u001b[0m                            Traceback (most recent call last)",
            "\u001b[0;32m<ipython-input-8-9189caea74dd>\u001b[0m in \u001b[0;36m<module>\u001b[0;34m()\u001b[0m\n\u001b[0;32m----> 1\u001b[0;31m \u001b[0;32mdel\u001b[0m \u001b[0mobj1\u001b[0m\u001b[0;34m.\u001b[0m\u001b[0mcolor\u001b[0m\u001b[0;34m\u001b[0m\u001b[0;34m\u001b[0m\u001b[0m\n\u001b[0m\u001b[1;32m      2\u001b[0m \u001b[0mobj1\u001b[0m\u001b[0;34m.\u001b[0m\u001b[0mdisplay\u001b[0m\u001b[0;34m(\u001b[0m\u001b[0;34m)\u001b[0m\u001b[0;34m\u001b[0m\u001b[0;34m\u001b[0m\u001b[0m\n",
            "\u001b[0;31mAttributeError\u001b[0m: color"
          ]
        }
      ]
    },
    {
      "cell_type": "code",
      "source": [
        "del obj1\n",
        "obj1.display()\n"
      ],
      "metadata": {
        "colab": {
          "base_uri": "https://localhost:8080/",
          "height": 183
        },
        "id": "4VLJ8xKUtBKJ",
        "outputId": "06e98e1e-c87c-44d5-c2b9-7afc5fd14299"
      },
      "execution_count": 9,
      "outputs": [
        {
          "output_type": "error",
          "ename": "NameError",
          "evalue": "ignored",
          "traceback": [
            "\u001b[0;31m---------------------------------------------------------------------------\u001b[0m",
            "\u001b[0;31mNameError\u001b[0m                                 Traceback (most recent call last)",
            "\u001b[0;32m<ipython-input-9-91368394876f>\u001b[0m in \u001b[0;36m<module>\u001b[0;34m()\u001b[0m\n\u001b[1;32m      1\u001b[0m \u001b[0;32mdel\u001b[0m \u001b[0mobj1\u001b[0m\u001b[0;34m\u001b[0m\u001b[0;34m\u001b[0m\u001b[0m\n\u001b[0;32m----> 2\u001b[0;31m \u001b[0mobj1\u001b[0m\u001b[0;34m.\u001b[0m\u001b[0mdisplay\u001b[0m\u001b[0;34m(\u001b[0m\u001b[0;34m)\u001b[0m\u001b[0;34m\u001b[0m\u001b[0;34m\u001b[0m\u001b[0m\n\u001b[0m",
            "\u001b[0;31mNameError\u001b[0m: name 'obj1' is not defined"
          ]
        }
      ]
    },
    {
      "cell_type": "code",
      "source": [
        "obj2 = Car(\"Audi\",\"black\")\n",
        "obj2.display()"
      ],
      "metadata": {
        "colab": {
          "base_uri": "https://localhost:8080/"
        },
        "id": "uSAI-GHLtE6F",
        "outputId": "7867f22c-4926-4b3b-e164-47fa82bd91de"
      },
      "execution_count": 10,
      "outputs": [
        {
          "output_type": "stream",
          "name": "stdout",
          "text": [
            "The name and color of the car  ('Audi', 'black')\n"
          ]
        }
      ]
    },
    {
      "cell_type": "markdown",
      "source": [
        "Application 1 - Write a python program to compute the area and perimeter of a rectangle. Use Rectangle as class name and length and wiidth as attributes"
      ],
      "metadata": {
        "id": "-dNXm2q9tJ5A"
      }
    },
    {
      "cell_type": "code",
      "source": [
        "class Rectangle():                          #Create a class named Rectangle\n",
        "  def __init__(self,length,width):\n",
        "    self.length = length                  #represents the instance of class named Rectangle\n",
        "    self.width = width                \n",
        "\n",
        "  def Area(self):\n",
        "    return self.length*self.width\n",
        "  \n",
        "  def Perimeter(self):\n",
        "    return 2*(self.length+self.width)\n",
        "  \n",
        "  def display(self):\n",
        "    print (\"The area of rectangle is  \", self.Area())\n",
        "    print (\"The perimeter of rectangle is \", self.Perimeter())\n",
        "\n",
        "pol = Rectangle(7,4.5)\n",
        "pol.display()"
      ],
      "metadata": {
        "colab": {
          "base_uri": "https://localhost:8080/"
        },
        "id": "WJqWUHThtLtX",
        "outputId": "d4eb5f01-2c7f-4d74-f836-9448b0c2f228"
      },
      "execution_count": 11,
      "outputs": [
        {
          "output_type": "stream",
          "name": "stdout",
          "text": [
            "The area of rectangle is   31.5\n",
            "The perimeter of rectangle is  23.0\n"
          ]
        }
      ]
    },
    {
      "cell_type": "markdown",
      "source": [
        "Application 2 - Write a python program to display a class name OOP_58001 with student no. and fullname (Surname, Firstname) as attributes"
      ],
      "metadata": {
        "id": "cpqQzoQBtXz7"
      }
    },
    {
      "cell_type": "code",
      "source": [
        "class Person:\n",
        " def __init__(self,student,number):\n",
        "  self.student = student\n",
        "  self.number = number\n",
        "\n",
        " def myFunction(self):\n",
        "  print(\"I am\",self.student,\"and my student number is\",self.number,\".\")\n",
        "  print(\"Section-OOP_58001\")\n",
        "\n",
        "\n",
        "p1= Person(\"Molina, Ralph Michael M.\", 202116159)\n",
        "p1.myFunction()"
      ],
      "metadata": {
        "colab": {
          "base_uri": "https://localhost:8080/"
        },
        "id": "IriU3n_itYUV",
        "outputId": "ae41d8e4-ca6c-4bb2-dbd0-b9e1f6e2aec0"
      },
      "execution_count": 12,
      "outputs": [
        {
          "output_type": "stream",
          "name": "stdout",
          "text": [
            "I am Molina, Ralph Michael M. and my student number is 202116159 .\n",
            "Section-OOP_58001\n"
          ]
        }
      ]
    }
  ]
}